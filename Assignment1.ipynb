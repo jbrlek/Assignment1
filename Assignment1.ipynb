{
 "cells": [
  {
   "cell_type": "code",
   "execution_count": 2,
   "metadata": {},
   "outputs": [],
   "source": [
    "import pandas as pd\n",
    "import numpy as np\n",
    "\n",
    "\n"
   ]
  },
  {
   "cell_type": "markdown",
   "metadata": {},
   "source": [
    "### Task 1"
   ]
  },
  {
   "cell_type": "code",
   "execution_count": 26,
   "metadata": {},
   "outputs": [],
   "source": [
    "input = [2,6,3,5,1,7]\n",
    "def max_diff(df): \n",
    "    diff = 0\n",
    "    maxd = 0\n",
    "    for i in input: \n",
    "        for j in input:\n",
    "            if df.index(i) <= df.index(j):\n",
    "                diff = i-j\n",
    "                if diff > maxd: \n",
    "                    maxd = diff\n",
    "    return maxd\n"
   ]
  },
  {
   "cell_type": "code",
   "execution_count": 27,
   "metadata": {},
   "outputs": [
    {
     "data": {
      "text/plain": [
       "5"
      ]
     },
     "execution_count": 27,
     "metadata": {},
     "output_type": "execute_result"
    }
   ],
   "source": [
    "max_diff(input)"
   ]
  },
  {
   "cell_type": "markdown",
   "metadata": {},
   "source": [
    "### Task 2"
   ]
  },
  {
   "cell_type": "code",
   "execution_count": 59,
   "metadata": {},
   "outputs": [
    {
     "data": {
      "text/html": [
       "<div>\n",
       "<style scoped>\n",
       "    .dataframe tbody tr th:only-of-type {\n",
       "        vertical-align: middle;\n",
       "    }\n",
       "\n",
       "    .dataframe tbody tr th {\n",
       "        vertical-align: top;\n",
       "    }\n",
       "\n",
       "    .dataframe thead th {\n",
       "        text-align: right;\n",
       "    }\n",
       "</style>\n",
       "<table border=\"1\" class=\"dataframe\">\n",
       "  <thead>\n",
       "    <tr style=\"text-align: right;\">\n",
       "      <th></th>\n",
       "      <th>timeCharged</th>\n",
       "      <th>timeLasted</th>\n",
       "    </tr>\n",
       "  </thead>\n",
       "  <tbody>\n",
       "    <tr>\n",
       "      <th>count</th>\n",
       "      <td>100.000000</td>\n",
       "      <td>100.000000</td>\n",
       "    </tr>\n",
       "    <tr>\n",
       "      <th>mean</th>\n",
       "      <td>4.573000</td>\n",
       "      <td>6.206800</td>\n",
       "    </tr>\n",
       "    <tr>\n",
       "      <th>std</th>\n",
       "      <td>2.788603</td>\n",
       "      <td>2.454116</td>\n",
       "    </tr>\n",
       "    <tr>\n",
       "      <th>min</th>\n",
       "      <td>0.000000</td>\n",
       "      <td>0.000000</td>\n",
       "    </tr>\n",
       "    <tr>\n",
       "      <th>25%</th>\n",
       "      <td>1.987500</td>\n",
       "      <td>3.975000</td>\n",
       "    </tr>\n",
       "    <tr>\n",
       "      <th>50%</th>\n",
       "      <td>4.375000</td>\n",
       "      <td>8.000000</td>\n",
       "    </tr>\n",
       "    <tr>\n",
       "      <th>75%</th>\n",
       "      <td>6.522500</td>\n",
       "      <td>8.000000</td>\n",
       "    </tr>\n",
       "    <tr>\n",
       "      <th>max</th>\n",
       "      <td>11.720000</td>\n",
       "      <td>8.000000</td>\n",
       "    </tr>\n",
       "  </tbody>\n",
       "</table>\n",
       "</div>"
      ],
      "text/plain": [
       "       timeCharged  timeLasted\n",
       "count   100.000000  100.000000\n",
       "mean      4.573000    6.206800\n",
       "std       2.788603    2.454116\n",
       "min       0.000000    0.000000\n",
       "25%       1.987500    3.975000\n",
       "50%       4.375000    8.000000\n",
       "75%       6.522500    8.000000\n",
       "max      11.720000    8.000000"
      ]
     },
     "execution_count": 59,
     "metadata": {},
     "output_type": "execute_result"
    }
   ],
   "source": [
    "df = pd.read_csv('Fred.txt', header= None,names= ['timeCharged', 'timeLasted'])\n",
    "df.describe()"
   ]
  },
  {
   "cell_type": "code",
   "execution_count": null,
   "metadata": {},
   "outputs": [],
   "source": []
  },
  {
   "cell_type": "code",
   "execution_count": 72,
   "metadata": {},
   "outputs": [
    {
     "name": "stdout",
     "output_type": "stream",
     "text": [
      "7.98\n",
      "0.0\n"
     ]
    },
    {
     "name": "stderr",
     "output_type": "stream",
     "text": [
      "<ipython-input-72-c7879a60cf4c>:1: RuntimeWarning: invalid value encountered in double_scalars\n",
      "  df['coef'] = df.apply(lambda row: row.timeLasted/row.timeCharged, axis=1)\n"
     ]
    }
   ],
   "source": [
    "df['coef'] = df.apply(lambda row: row.timeLasted/row.timeCharged, axis=1)\n",
    "df1 = df.loc[df['coef'] == 2]\n",
    "df2 = df.loc[df['coef'] != 2]\n",
    "\n",
    "print(df1['timeLasted'].max())\n",
    "print(df2['timeLasted'].min())"
   ]
  },
  {
   "cell_type": "code",
   "execution_count": 82,
   "metadata": {},
   "outputs": [
    {
     "data": {
      "text/html": [
       "<div>\n",
       "<style scoped>\n",
       "    .dataframe tbody tr th:only-of-type {\n",
       "        vertical-align: middle;\n",
       "    }\n",
       "\n",
       "    .dataframe tbody tr th {\n",
       "        vertical-align: top;\n",
       "    }\n",
       "\n",
       "    .dataframe thead th {\n",
       "        text-align: right;\n",
       "    }\n",
       "</style>\n",
       "<table border=\"1\" class=\"dataframe\">\n",
       "  <thead>\n",
       "    <tr style=\"text-align: right;\">\n",
       "      <th></th>\n",
       "      <th>timeCharged</th>\n",
       "      <th>timeLasted</th>\n",
       "      <th>coef</th>\n",
       "    </tr>\n",
       "  </thead>\n",
       "  <tbody>\n",
       "    <tr>\n",
       "      <th>count</th>\n",
       "      <td>45.000000</td>\n",
       "      <td>45.000000</td>\n",
       "      <td>45.0</td>\n",
       "    </tr>\n",
       "    <tr>\n",
       "      <th>mean</th>\n",
       "      <td>2.096444</td>\n",
       "      <td>4.192889</td>\n",
       "      <td>2.0</td>\n",
       "    </tr>\n",
       "    <tr>\n",
       "      <th>std</th>\n",
       "      <td>1.070174</td>\n",
       "      <td>2.140349</td>\n",
       "      <td>0.0</td>\n",
       "    </tr>\n",
       "    <tr>\n",
       "      <th>min</th>\n",
       "      <td>0.020000</td>\n",
       "      <td>0.040000</td>\n",
       "      <td>2.0</td>\n",
       "    </tr>\n",
       "    <tr>\n",
       "      <th>25%</th>\n",
       "      <td>1.580000</td>\n",
       "      <td>3.160000</td>\n",
       "      <td>2.0</td>\n",
       "    </tr>\n",
       "    <tr>\n",
       "      <th>50%</th>\n",
       "      <td>1.980000</td>\n",
       "      <td>3.960000</td>\n",
       "      <td>2.0</td>\n",
       "    </tr>\n",
       "    <tr>\n",
       "      <th>75%</th>\n",
       "      <td>2.720000</td>\n",
       "      <td>5.440000</td>\n",
       "      <td>2.0</td>\n",
       "    </tr>\n",
       "    <tr>\n",
       "      <th>max</th>\n",
       "      <td>3.990000</td>\n",
       "      <td>7.980000</td>\n",
       "      <td>2.0</td>\n",
       "    </tr>\n",
       "  </tbody>\n",
       "</table>\n",
       "</div>"
      ],
      "text/plain": [
       "       timeCharged  timeLasted  coef\n",
       "count    45.000000   45.000000  45.0\n",
       "mean      2.096444    4.192889   2.0\n",
       "std       1.070174    2.140349   0.0\n",
       "min       0.020000    0.040000   2.0\n",
       "25%       1.580000    3.160000   2.0\n",
       "50%       1.980000    3.960000   2.0\n",
       "75%       2.720000    5.440000   2.0\n",
       "max       3.990000    7.980000   2.0"
      ]
     },
     "execution_count": 82,
     "metadata": {},
     "output_type": "execute_result"
    }
   ],
   "source": [
    "df1.describe()"
   ]
  },
  {
   "cell_type": "code",
   "execution_count": 99,
   "metadata": {},
   "outputs": [],
   "source": [
    "def Tlast(Tchar):\n",
    "#d=float(input('input charging time: '))\n",
    "    if Tchar < 4:\n",
    "        last = Tchar * 2 \n",
    "        print(round(last,1))\n",
    "    else: \n",
    "        last = 8\n",
    "        print(last)"
   ]
  },
  {
   "cell_type": "code",
   "execution_count": 100,
   "metadata": {},
   "outputs": [
    {
     "name": "stdout",
     "output_type": "stream",
     "text": [
      "6.9\n"
     ]
    }
   ],
   "source": [
    "Tlast(3.43425)"
   ]
  },
  {
   "cell_type": "markdown",
   "metadata": {},
   "source": [
    "### Task 3\n",
    "\n",
    "The money flow index (MFI) is a momentum indicator that measures the inflow and outflow of money into and out of a security over a specific period of time. It is computed as given below, and can assume values between 0 and 100.\n",
    "\n",
    "• Money Flow Index = 100 x Money Ratio ⁄ (1 + Money Ratio)\n",
    "\n",
    "• Money Ratio = Positive Money Flow Sum ⁄ Negative Money Flow Sum\n",
    "\n",
    "• Money Flow = Typical Price × Volume\n",
    "\n",
    "• Typical Price = (High Price + Low Price + Close Price) ⁄ 3\n",
    "\n",
    "The concepts of Positive and Negative Money Flow are defined as follows: on any given day, the Money Flow is denoted positive / negative if the Typical Price is higher / lower than the previous day's typical price. If the Typical Price is unchanged then that day's data are discarded. \n",
    "\n",
    "The Positive Money Flow Sum is the sum of all the Positive Money Flow over a sliding window of n days. The Negative Money Flow Sum is the sum of all the Negative Money Flow over a sliding window of n days.\n",
    "Given the stock price data consisting of open, close, volume, low, and high price, calculate the Money Flow Index for each day over a sliding window of n days (n will be given). The first Money Flow Index value is calculated for the (n + 1)th day.\n",
    "\n",
    "Function Description Create the moneyFlowIndex function. The function must create a file money_flow_index_[n].csv containing the headers: Day, Open, High, Low, Close, Volume, Typical Price, Positive Money Flow, Negative Money Flow, Positive Money Flow Sum, Negative Money Flow Sum, and Money Flow Index as described in the examples above. The money flow index should be calculated over a sliding window of n days, inclusive of the day for which it is calculated. No return value is expected.\n",
    "\n",
    "moneyFlowIndex has two parameters: filename: a string describing the name of the input CSV file containing the headers: Day, Open, High, Low, Close, and Volume n: an integer\n",
    "Evaluation The output file must meet the following conditions:\n",
    "• The output CSV file must contain the headers in the given order: Day, Open, High, Low, Close, Volume, Typical Price, Positive Money Flow, Negative Money Flow, Positive Money Flow Sum, Negative Money Flow Sum, and Money Flow Index.\n",
    "• The Day, Open, High, Low, Close, and Volume must exactly match with the values given in the input CSV file.\n",
    "• The computed values of Typical Price, Positive Money Flow, Negative Money Flow, Positive Money Flow Sum, Negative\n",
    "• Money Flow Sum, and Money Flow Index value should not deviate from the correct values by more than 10-6.\n",
    "\n",
    "The values of n provided will always be such that it is possible to calculate the money flow index over n days."
   ]
  },
  {
   "cell_type": "code",
   "execution_count": null,
   "metadata": {},
   "outputs": [],
   "source": []
  }
 ],
 "metadata": {
  "kernelspec": {
   "display_name": "Python 3",
   "language": "python",
   "name": "python3"
  },
  "language_info": {
   "codemirror_mode": {
    "name": "ipython",
    "version": 3
   },
   "file_extension": ".py",
   "mimetype": "text/x-python",
   "name": "python",
   "nbconvert_exporter": "python",
   "pygments_lexer": "ipython3",
   "version": "3.8.5"
  }
 },
 "nbformat": 4,
 "nbformat_minor": 4
}
